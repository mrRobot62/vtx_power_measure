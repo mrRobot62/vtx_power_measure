{
 "cells": [
  {
   "cell_type": "markdown",
   "metadata": {},
   "source": [
    "# VTX Measurement analysis\n",
    "\n"
   ]
  },
  {
   "cell_type": "code",
   "execution_count": 1,
   "metadata": {},
   "outputs": [],
   "source": [
    "import pandas as pd\n",
    "import numpy as np\n",
    "import matplotlib as mpl\n"
   ]
  },
  {
   "cell_type": "code",
   "execution_count": 2,
   "metadata": {},
   "outputs": [],
   "source": [
    "from pandas_visual_analysis import VisualAnalysis"
   ]
  },
  {
   "cell_type": "code",
   "execution_count": 3,
   "metadata": {},
   "outputs": [],
   "source": [
    "csv_files = \"csv/DEMO_VTX_DEMO_MODE_MYYNK_20210612_23-48-54.csv;csv/DEMO_VTX_DEMO_MODE_PUWVB_20210613_07-54-13.csv\"\n",
    "csv_files = csv_files.replace(';',',')"
   ]
  },
  {
   "cell_type": "code",
   "execution_count": 4,
   "metadata": {},
   "outputs": [],
   "source": [
    "csv_list = csv_files.split(',')\n",
    "csv_sep = ';'\n",
    "csv_decimal = ','"
   ]
  },
  {
   "cell_type": "code",
   "execution_count": 5,
   "metadata": {},
   "outputs": [
    {
     "data": {
      "text/plain": [
       "['csv/DEMO_VTX_DEMO_MODE_MYYNK_20210612_23-48-54.csv',\n",
       " 'csv/DEMO_VTX_DEMO_MODE_PUWVB_20210613_07-54-13.csv']"
      ]
     },
     "execution_count": 5,
     "metadata": {},
     "output_type": "execute_result"
    }
   ],
   "source": [
    "csv_list"
   ]
  },
  {
   "cell_type": "code",
   "execution_count": 6,
   "metadata": {},
   "outputs": [
    {
     "name": "stdout",
     "output_type": "stream",
     "text": [
      "2\n"
     ]
    }
   ],
   "source": [
    "df_list = []\n",
    "for f in csv_list:\n",
    "    df_list.append(pd.read_csv(f, sep=csv_sep, decimal=csv_decimal, header=0, encoding='utf-8'))\n",
    "\n",
    "print(len(df_list))"
   ]
  },
  {
   "cell_type": "code",
   "execution_count": 7,
   "metadata": {},
   "outputs": [],
   "source": [
    "df = pd.DataFrame()\n",
    "df = pd.concat(df_list)"
   ]
  },
  {
   "cell_type": "code",
   "execution_count": 8,
   "metadata": {},
   "outputs": [
    {
     "data": {
      "text/plain": [
       "(4800, 12)"
      ]
     },
     "execution_count": 8,
     "metadata": {},
     "output_type": "execute_result"
    }
   ],
   "source": [
    "df.shape"
   ]
  },
  {
   "cell_type": "code",
   "execution_count": 9,
   "metadata": {},
   "outputs": [
    {
     "data": {
      "text/html": [
       "<div>\n",
       "<style scoped>\n",
       "    .dataframe tbody tr th:only-of-type {\n",
       "        vertical-align: middle;\n",
       "    }\n",
       "\n",
       "    .dataframe tbody tr th {\n",
       "        vertical-align: top;\n",
       "    }\n",
       "\n",
       "    .dataframe thead th {\n",
       "        text-align: right;\n",
       "    }\n",
       "</style>\n",
       "<table border=\"1\" class=\"dataframe\">\n",
       "  <thead>\n",
       "    <tr style=\"text-align: right;\">\n",
       "      <th></th>\n",
       "      <th>TS</th>\n",
       "      <th>Test</th>\n",
       "      <th>Model</th>\n",
       "      <th>Target Band</th>\n",
       "      <th>Target Freq</th>\n",
       "      <th>Target mW</th>\n",
       "      <th>Target dBm</th>\n",
       "      <th>Info</th>\n",
       "      <th>mW</th>\n",
       "      <th>dBm</th>\n",
       "      <th>dif_mW</th>\n",
       "      <th>dif_dBm</th>\n",
       "    </tr>\n",
       "  </thead>\n",
       "  <tbody>\n",
       "    <tr>\n",
       "      <th>0</th>\n",
       "      <td>1623533893000000000</td>\n",
       "      <td>20210612_1623533887</td>\n",
       "      <td>DEMO_MODE_MYYNK</td>\n",
       "      <td>A</td>\n",
       "      <td>5865</td>\n",
       "      <td>25.0</td>\n",
       "      <td>13.98</td>\n",
       "      <td>Teststand, manuelle Einstellungen</td>\n",
       "      <td>23.98</td>\n",
       "      <td>13.80</td>\n",
       "      <td>-1.02</td>\n",
       "      <td>-0.18</td>\n",
       "    </tr>\n",
       "    <tr>\n",
       "      <th>1</th>\n",
       "      <td>1623533894000000000</td>\n",
       "      <td>20210612_1623533887</td>\n",
       "      <td>DEMO_MODE_MYYNK</td>\n",
       "      <td>A</td>\n",
       "      <td>5865</td>\n",
       "      <td>25.0</td>\n",
       "      <td>13.98</td>\n",
       "      <td>Teststand, manuelle Einstellungen</td>\n",
       "      <td>24.10</td>\n",
       "      <td>13.82</td>\n",
       "      <td>-0.90</td>\n",
       "      <td>-0.16</td>\n",
       "    </tr>\n",
       "    <tr>\n",
       "      <th>2</th>\n",
       "      <td>1623533894000000000</td>\n",
       "      <td>20210612_1623533887</td>\n",
       "      <td>DEMO_MODE_MYYNK</td>\n",
       "      <td>A</td>\n",
       "      <td>5865</td>\n",
       "      <td>25.0</td>\n",
       "      <td>13.98</td>\n",
       "      <td>Teststand, manuelle Einstellungen</td>\n",
       "      <td>28.25</td>\n",
       "      <td>14.51</td>\n",
       "      <td>3.25</td>\n",
       "      <td>0.53</td>\n",
       "    </tr>\n",
       "    <tr>\n",
       "      <th>3</th>\n",
       "      <td>1623533894000000000</td>\n",
       "      <td>20210612_1623533887</td>\n",
       "      <td>DEMO_MODE_MYYNK</td>\n",
       "      <td>A</td>\n",
       "      <td>5865</td>\n",
       "      <td>25.0</td>\n",
       "      <td>13.98</td>\n",
       "      <td>Teststand, manuelle Einstellungen</td>\n",
       "      <td>28.99</td>\n",
       "      <td>14.62</td>\n",
       "      <td>3.99</td>\n",
       "      <td>0.64</td>\n",
       "    </tr>\n",
       "    <tr>\n",
       "      <th>4</th>\n",
       "      <td>1623533894000000000</td>\n",
       "      <td>20210612_1623533887</td>\n",
       "      <td>DEMO_MODE_MYYNK</td>\n",
       "      <td>A</td>\n",
       "      <td>5865</td>\n",
       "      <td>25.0</td>\n",
       "      <td>13.98</td>\n",
       "      <td>Teststand, manuelle Einstellungen</td>\n",
       "      <td>26.45</td>\n",
       "      <td>14.22</td>\n",
       "      <td>1.45</td>\n",
       "      <td>0.25</td>\n",
       "    </tr>\n",
       "  </tbody>\n",
       "</table>\n",
       "</div>"
      ],
      "text/plain": [
       "                    TS                 Test            Model Target Band  \\\n",
       "0  1623533893000000000  20210612_1623533887  DEMO_MODE_MYYNK           A   \n",
       "1  1623533894000000000  20210612_1623533887  DEMO_MODE_MYYNK           A   \n",
       "2  1623533894000000000  20210612_1623533887  DEMO_MODE_MYYNK           A   \n",
       "3  1623533894000000000  20210612_1623533887  DEMO_MODE_MYYNK           A   \n",
       "4  1623533894000000000  20210612_1623533887  DEMO_MODE_MYYNK           A   \n",
       "\n",
       "   Target Freq  Target mW  Target dBm                               Info  \\\n",
       "0         5865       25.0       13.98  Teststand, manuelle Einstellungen   \n",
       "1         5865       25.0       13.98  Teststand, manuelle Einstellungen   \n",
       "2         5865       25.0       13.98  Teststand, manuelle Einstellungen   \n",
       "3         5865       25.0       13.98  Teststand, manuelle Einstellungen   \n",
       "4         5865       25.0       13.98  Teststand, manuelle Einstellungen   \n",
       "\n",
       "      mW    dBm  dif_mW  dif_dBm  \n",
       "0  23.98  13.80   -1.02    -0.18  \n",
       "1  24.10  13.82   -0.90    -0.16  \n",
       "2  28.25  14.51    3.25     0.53  \n",
       "3  28.99  14.62    3.99     0.64  \n",
       "4  26.45  14.22    1.45     0.25  "
      ]
     },
     "execution_count": 9,
     "metadata": {},
     "output_type": "execute_result"
    }
   ],
   "source": [
    "df.head(5)"
   ]
  },
  {
   "cell_type": "code",
   "execution_count": 18,
   "metadata": {},
   "outputs": [
    {
     "data": {
      "application/vnd.jupyter.widget-view+json": {
       "model_id": "9aff995f37ae4f4daa104006678c6d89",
       "version_major": 2,
       "version_minor": 0
      },
      "text/plain": [
       "VBox(children=(ToggleButtons(_dom_classes=('layout-0b1fb53c0fda4eb590205a2ec20aab55',), description='Selection…"
      ]
     },
     "metadata": {},
     "output_type": "display_data"
    }
   ],
   "source": [
    "#VisualAnalysis(df)\n",
    "\n",
    "categorical = [\"Model\", \"Target Band\", \"Target Freq\", \"Target mW\", \"Info\", \"Test\"]\n",
    "VisualAnalysis(df, \n",
    "                #categorical_columns=categorical,\n",
    "                layout=[[\"Scatter\", \"Scatter\"],[\"ParallelCoordinates\"]]\n",
    "                )"
   ]
  },
  {
   "cell_type": "code",
   "execution_count": 17,
   "metadata": {},
   "outputs": [
    {
     "data": {
      "text/plain": [
       "['Scatter',\n",
       " 'ParallelCoordinates',\n",
       " 'BrushSummary',\n",
       " 'Histogram',\n",
       " 'ParallelCategories',\n",
       " 'BoxPlot']"
      ]
     },
     "execution_count": 17,
     "metadata": {},
     "output_type": "execute_result"
    }
   ],
   "source": [
    "VisualAnalysis.widgets()"
   ]
  },
  {
   "cell_type": "code",
   "execution_count": null,
   "metadata": {},
   "outputs": [],
   "source": []
  }
 ],
 "metadata": {
  "kernelspec": {
   "display_name": "Python 3",
   "language": "python",
   "name": "python3"
  },
  "language_info": {
   "codemirror_mode": {
    "name": "ipython",
    "version": 3
   },
   "file_extension": ".py",
   "mimetype": "text/x-python",
   "name": "python",
   "nbconvert_exporter": "python",
   "pygments_lexer": "ipython3",
   "version": "3.8.5"
  }
 },
 "nbformat": 4,
 "nbformat_minor": 4
}
